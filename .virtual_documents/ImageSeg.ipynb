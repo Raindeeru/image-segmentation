import numpy as np
import cv2
import matplotlib.pyplot as plt

import pandas as pd #gamitin pa ba natin toh? para maging maganda lang naman pang print toh eh


img = cv2.imread("6p.jpg", cv2.IMREAD_COLOR)
img = cv2.cvtColor(img, cv2.COLOR_BGR2RGB)


plt.imshow(img)


img_bnw = cv2.cvtColor(img, cv2.COLOR_RGB2GRAY)

plt.imshow(img_bnw, cmap="gray")
plt.show()


img_blur = cv2.GaussianBlur(img_bnw, (15, 15), 0)
plt.imshow(img_blur, cmap = "gray")
plt.show()


ret, thresh_otsu = cv2.threshold(img_blur, 100, 255, cv2.THRESH_OTSU)

plt.imshow(thresh_otsu, cmap = "gray")


thresh_adaptive = cv2.adaptiveThreshold(img_blur,255,cv2.ADAPTIVE_THRESH_GAUSSIAN_C,
            cv2.THRESH_BINARY,9,2)

plt.imshow(thresh_adaptive, cmap = "gray")


edges = cv2.Canny(img_blur,5, 30)
plt.imshow(edges, cmap = "gray")


img_hsv = cv2.cvtColor(img, cv2.COLOR_RGB2HSV)

H_lower = 20
H_higher = 30
S_lower = 48
S_higher = 255
V_lower = 50
V_higher = 255

lower = np.array([H_lower, S_lower, V_lower])
higher = np.array([H_higher, S_higher, V_higher])

mask = cv2.inRange(img_hsv, lower, higher)

img_highlight = cv2.bitwise_and(img, img, mask = mask)

fig, ax = plt.subplots(1, 2)
ax[0].imshow(mask, cmap='gray', vmin=0, vmax=255)
ax[1].imshow(img_highlight)
plt.show()


kernel = np.ones((5,5), np.uint8)
dilation = cv2.dilate(img_blur,kernel,iterations = 1)
erosion = cv2.erode(img_blur,kernel,iterations = 1)


fig, ax = plt.subplots(1, 3)
ax[0].imshow(img_blur, cmap='gray')
ax[1].imshow(dilation, cmap = "gray")
ax[2].imshow(erosion, cmap = "gray")
plt.show()


params = cv2.SimpleBlobDetector_Params()

image_to_blob = thresh_adaptive

params.filterByArea = True
params.minArea = 100
params.filterByColor = True
params.blobColor = 0
params.filterByCircularity = False
params.filterByConvexity = False
params.filterByInertia = False

detector = cv2.SimpleBlobDetector_create(params)

keypoints = detector.detect(image_to_blob)
img_with_keypoints = cv2.drawKeypoints(image_to_blob, keypoints, np.array([]), (0, 0, 255), cv2.DRAW_MATCHES_FLAGS_DRAW_RICH_KEYPOINTS)

plt.imshow(img_with_keypoints, cmap = "gray")
count = 0

keypoint_data = []

for keypoint in keypoints:
    data = {}
    data["Coorrdinates"] = keypoint.pt
    data["Size"] = keypoint.size
    keypoint_data.append(data)
    count += 1
keypoint_data = pd.DataFrame(keypoint_data)
keypoint_data


img_box = img.copy()

new_img = img_blur.copy()
ret, new_otsu = cv2.threshold(new_img, 100, 255, cv2.THRESH_OTSU)

contours, hierarchy = cv2.findContours(new_otsu, cv2.RETR_TREE, cv2.CHAIN_APPROX_SIMPLE)

AREA_THRESH = 1500

features = []

for contour in contours:
    area = cv2.contourArea(contour)
    if area > AREA_THRESH:
        moment = cv2.moments(contour)
        center_x = int(moment['m10']/moment['m00'])
        center_y = int(moment['m01']/moment['m00'])

        cv2.circle(img_box, (center_x, center_y), 7, (0, 0, 255), -1)
        
        rect_x, rect_y, rect_w, rect_h = cv2.boundingRect(contour)
        min_rect = cv2.minAreaRect(contour)
        img_box = cv2.rectangle(img_box,
                                (rect_x, rect_y),
                                (rect_x + rect_w, rect_y + rect_h),
                                (0, 255, 0),
                                2)
        min_box = cv2.boxPoints(min_rect)
        min_box = min_box.astype(np.intp)
        cv2.drawContours(img_box, [min_box], 0, (0,0,255), 2)
        
        #perimeter, aspect ratio, extent, solidity, equivalent diameter, orientation
        feature = {}
        feature["Perimeter"] = cv2.arcLength(contour, True)
        feature["Aspect Ratio"] = rect_w/rect_h
        feature["Extent"] = float(area) / (rect_w * rect_h)
        hull = cv2.convexHull(contour)
        hull_area = cv2.contourArea(hull)
        feature["Solidity"] = float(area) / hull_area if hull_area > 0 else 0
        feature["Diameter"] = np.sqrt(4 * area / np.pi).item()
        
        angle = None
        if len(contour) >= 5:
            ellipse = cv2.fitEllipse(contour)
            angle = ellipse[2]
        feature["Orientation"] = angle

        features.append(feature)
features = pd.DataFrame(features)
plt.imshow(img_box)
features
