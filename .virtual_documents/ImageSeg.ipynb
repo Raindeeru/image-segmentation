import numpy as np
import cv2
import matplotlib.pyplot as plt


img = cv2.imread("image.png", cv2.IMREAD_COLOR)
img = cv2.cvtColor(img, cv2.COLOR_BGR2RGB)


plt.imshow(img)


img_bnw = cv2.cvtColor(img, cv2.COLOR_RGB2GRAY)

plt.imshow(img_bnw, cmap="gray")
plt.show()


img_blur = cv2.GaussianBlur(img_bnw, (15, 15), 0)
plt.imshow(img_blur, cmap = "gray")
plt.show()


ret, thresh_otsu = cv2.threshold(img_blur, 120, 255, cv2.THRESH_OTSU)

plt.imshow(thresh_otsu, cmap = "gray")


thresh_adaptive = cv2.adaptiveThreshold(img_blur,255,cv2.ADAPTIVE_THRESH_GAUSSIAN_C,
            cv2.THRESH_BINARY,11,1)

plt.imshow(thresh_adaptive, cmap = "gray")


edges = cv2.Canny(img_blur,5, 30)
plt.imshow(edges, cmap = "gray")


img_hsv = cv2.cvtColor(img, cv2.COLOR_RGB2HSV)

H_lower = 30
H_higher = 150
S_lower = 60
S_higher = 255
V_lower = 30
V_higher = 255

lower = np.array([H_lower, S_lower, V_lower])
higher = np.array([H_higher, S_higher, V_higher])

mask = cv2.inRange(img_hsv, lower, higher)

img_highlight = cv2.bitwise_and(img, img, mask = mask)

fig, ax = plt.subplots(1, 2)
ax[0].imshow(mask, cmap='gray', vmin=0, vmax=255)
ax[1].imshow(img_highlight)
plt.show()


kernel = np.ones((5,5), np.uint8)
dilation = cv2.dilate(img_blur,kernel,iterations = 1)
erosion = cv2.erode(img_blur,kernel,iterations = 1)


fig, ax = plt.subplots(1, 3)
ax[0].imshow(img_blur, cmap='gray')
ax[1].imshow(dilation, cmap = "gray")
ax[2].imshow(erosion, cmap = "gray")
plt.show()


params = cv2.SimpleBlobDetector_Params()

image_to_blob = thresh_adaptive

params.filterByArea = True
params.minArea = 100
params.filterByColor = True
params.blobColor = 255
params.filterByCircularity = False
params.filterByConvexity = False
params.filterByInertia = False

detector = cv2.SimpleBlobDetector_create(params)

keypoints = detector.detect(image_to_blob)
img_with_keypoints = cv2.drawKeypoints(image_to_blob, keypoints, np.array([]), (0, 0, 255), cv2.DRAW_MATCHES_FLAGS_DRAW_RICH_KEYPOINTS)

plt.imshow(img_with_keypoints, cmap = "gray")
count = 0
for keypoint in keypoints:
    print(f"Keypoint {count} ")
    print(f"Coordinate {keypoint.pt} Size {keypoint.size}")
    count += 1



